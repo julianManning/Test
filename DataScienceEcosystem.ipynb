{
 "cells": [
  {
   "cell_type": "markdown",
   "id": "f52790e0",
   "metadata": {},
   "source": [
    "# Data Science Tools and Ecosystem"
   ]
  },
  {
   "cell_type": "markdown",
   "id": "cde43d9b",
   "metadata": {},
   "source": [
    "In this notebook, Data Science Tools and Ecosystem are summarized."
   ]
  },
  {
   "cell_type": "markdown",
   "id": "5e248d2f",
   "metadata": {},
   "source": [
    "Some of the popular languages that Data Scientists use are:\n",
    "\n",
    "    1. R\n",
    "    2. JavaScript\n",
    "    3. Python\n",
    "    4. Julia"
   ]
  },
  {
   "cell_type": "markdown",
   "id": "325c8454",
   "metadata": {},
   "source": [
    "Some of the commonly used libraries used by Data Scientists include:\n",
    "    \n",
    "    1. ggplot\n",
    "    2. numpy\n",
    "    3. PyTorch\n",
    "    "
   ]
  },
  {
   "cell_type": "markdown",
   "id": "4628e745",
   "metadata": {},
   "source": [
    "|Data Science Tools|\n",
    "-----------------------------\n",
    "|Spyder IDE|\n",
    "|R Studio|\n",
    "|Jupiter Notebook|"
   ]
  },
  {
   "cell_type": "markdown",
   "id": "3cf784f9",
   "metadata": {},
   "source": [
    "### Below are a few examples of evaluating arithmetic expressions in Python\n",
    "\n",
    "    Multiplication>> 15 × 15 = 225.\n",
    "    Division>> 225 / 5 = 45.\n",
    "    Addition>> 20 + 13 = 33.\n",
    "    Subtraction>> 33 – 45 = -12"
   ]
  },
  {
   "cell_type": "code",
   "execution_count": 2,
   "id": "779ffab8",
   "metadata": {},
   "outputs": [
    {
     "name": "stdout",
     "output_type": "stream",
     "text": [
      "17\n"
     ]
    }
   ],
   "source": [
    "# This a simple arithmetic expression to mutiply then add integers\n",
    "a = (3*4)+5\n",
    "print (a)"
   ]
  },
  {
   "cell_type": "code",
   "execution_count": 3,
   "id": "dbc453cb",
   "metadata": {},
   "outputs": [
    {
     "name": "stdout",
     "output_type": "stream",
     "text": [
      "3.3333333333333335\n"
     ]
    }
   ],
   "source": [
    "# This will convert 200 minutes to hours by diving by 60\n",
    "b = 200/60\n",
    "print (b)"
   ]
  },
  {
   "cell_type": "markdown",
   "id": "72f587f9",
   "metadata": {},
   "source": [
    "# **Objectives:**\n",
    "- List popular languages for Data Science\n",
    "- Commonly used libraries used by Data Scientists\n",
    "- Arithmetic expressions in Python"
   ]
  },
  {
   "cell_type": "markdown",
   "id": "eb757c3e",
   "metadata": {},
   "source": [
    "## Author\n",
    "\n",
    "Julian Manning\n"
   ]
  },
  {
   "cell_type": "code",
   "execution_count": null,
   "id": "67f03087",
   "metadata": {},
   "outputs": [],
   "source": []
  }
 ],
 "metadata": {
  "kernelspec": {
   "display_name": "Python 3 (ipykernel)",
   "language": "python",
   "name": "python3"
  },
  "language_info": {
   "codemirror_mode": {
    "name": "ipython",
    "version": 3
   },
   "file_extension": ".py",
   "mimetype": "text/x-python",
   "name": "python",
   "nbconvert_exporter": "python",
   "pygments_lexer": "ipython3",
   "version": "3.10.9"
  }
 },
 "nbformat": 4,
 "nbformat_minor": 5
}
